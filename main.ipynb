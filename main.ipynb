{
 "cells": [
  {
   "cell_type": "code",
   "execution_count": null,
   "id": "134f4a56",
   "metadata": {},
   "outputs": [],
   "source": [
    "import mysql.connector\n",
    "from mysql.connector import Error\n",
    "import pandas as pd\n",
    "from mysql_con import *"
   ]
  },
  {
   "cell_type": "markdown",
   "id": "ef0f2165",
   "metadata": {},
   "source": [
    "CREATE CONNECTION TO DATABASE"
   ]
  },
  {
   "cell_type": "code",
   "execution_count": null,
   "id": "b3d86bf7",
   "metadata": {},
   "outputs": [],
   "source": [
    "def create_db_connection(host_name, user_name, user_password, db_name):\n",
    "    connection = None\n",
    "    try:\n",
    "        connection = mysql.connector.connect(\n",
    "            host=host_name,\n",
    "            user=user_name,\n",
    "            passwd=user_password,\n",
    "            database=db)\n",
    "        print(\"MySQL database connection successfull\")\n",
    "    except Error as err:\n",
    "        print(f\"Error: {err}\")\n",
    "    return connection\n",
    "\n",
    "# definisi parameter\n",
    "user = \"root\"\n",
    "pw = \"Ank218258#\"\n",
    "db = \"lib_management_sys\"\n",
    "\n",
    "\n",
    "connection = create_db_connection(\"localhost\", user, pw, db)"
   ]
  },
  {
   "cell_type": "markdown",
   "id": "1ae0f5ad",
   "metadata": {},
   "source": [
    "FUNGSI untuk execute query"
   ]
  },
  {
   "cell_type": "code",
   "execution_count": null,
   "id": "d1026657",
   "metadata": {},
   "outputs": [],
   "source": [
    "def execute_query(connection, query,value):\n",
    "    cursor = connection.cursor()\n",
    "    try:\n",
    "        cursor.execute(query,value)       \n",
    "        connection.commit()\n",
    "        print(\"Query berhasil dieksekusi\")\n",
    "        print(\"==========================\")\n",
    "        print(\"Data entered successfully\")\n",
    "        print(\"==========================\")\n",
    "    except Error as err:\n",
    "        print(f\"Error: {err}\")"
   ]
  },
  {
   "cell_type": "markdown",
   "id": "507dda78",
   "metadata": {},
   "source": [
    "FUNGSI untuk menu Tampilkan tabel"
   ]
  },
  {
   "cell_type": "code",
   "execution_count": null,
   "id": "e31a0aa5",
   "metadata": {},
   "outputs": [],
   "source": [
    "def read_query(connection, query):\n",
    "    cursor = connection.cursor()\n",
    "    result = None\n",
    "    try:\n",
    "        cursor.execute(query)\n",
    "        result = cursor.fetchall()\n",
    "        return pd.DataFrame(result)\n",
    "    except Error as err:\n",
    "        print(f\"Error: {err}\")"
   ]
  },
  {
   "cell_type": "markdown",
   "id": "ac234995",
   "metadata": {},
   "source": [
    "FUNGSI untuk menu Cari buku"
   ]
  },
  {
   "cell_type": "code",
   "execution_count": null,
   "id": "20efe0ee",
   "metadata": {},
   "outputs": [],
   "source": [
    "def cari_buku (connection, query):\n",
    "    cursor = connection.cursor()\n",
    "    \n",
    "    "
   ]
  },
  {
   "cell_type": "code",
   "execution_count": 1,
   "id": "290ba4f6",
   "metadata": {},
   "outputs": [
    {
     "name": "stdout",
     "output_type": "stream",
     "text": [
      "----------------.LIBRARY MANAGEMENT----------------        \n",
      "1. Pendaftaran User Baru \n",
      "2. Pendaftaran Buku Baru \n",
      "3. Peminjaman        \n",
      "4. Tampilkan Daftar Buku \n",
      "5. Tampilkan Daftar User \n",
      "6. Tampilkan Daftar Peminjaman        \n",
      "7. Cari Buku \n",
      "8. Pengembalian \n",
      "9. Exit\n"
     ]
    }
   ],
   "source": [
    "print ('----------------.LIBRARY MANAGEMENT----------------\\\n",
    "        \\n1. Pendaftaran User Baru \\n2. Pendaftaran Buku Baru \\n3. Peminjaman\\\n",
    "        \\n4. Tampilkan Daftar Buku \\n5. Tampilkan Daftar User \\n6. Tampilkan Daftar Peminjaman\\\n",
    "        \\n7. Cari Buku \\n8. Pengembalian \\n9. Exit')"
   ]
  },
  {
   "cell_type": "code",
   "execution_count": null,
   "id": "e12fe486",
   "metadata": {},
   "outputs": [],
   "source": [
    "nomor_tugas = 0\n",
    "nomor_tugas = int(input ('Masukkan Nomor Tugas : '))\n",
    "id_user = 0\n",
    "id_buku = 0\n",
    "    \n",
    "while nomor_tugas > 0 : \n",
    "    # Untuk menu pendaftaran user baru\n",
    "    if (nomor_tugas == 1) :\n",
    "        print (\"==================================\")\n",
    "        nama = str(input(\"Masukkan nama user : \"))\n",
    "        tanggal_lahir= str(input(\"Masukkan tanggal lahir (YYYY-MM-DD) : \"))\n",
    "        pekerjaan = str(input(\"Pekerjaan : \"))\n",
    "        alamat = str(input(\"Masukkan Alamat : \"))\n",
    "        \n",
    "        query_insert_data = \"\"\"\n",
    "            INSERT INTO user_baru (id_user, nama_user, tanggal_lahir, pekerjaan, alamat) VALUES(%s, %s, %s, %s, %s) \n",
    "        \"\"\"\n",
    "        value = (str(id_user), nama, tanggal_lahir, pekerjaan, alamat)\n",
    "        execute_query (connection,query_insert_data,value)\n",
    "        print (\"==================================\")\n",
    "        \n",
    "    #untuk menu pendaftaran buku baru\n",
    "    elif (nomor_tugas == 2) :\n",
    "        print (\"==================================\")\n",
    "        id_buku = str(input(\"Masukkan kode buku : \"))\n",
    "        judul = str(input(\"Masukkan judul buku : \"))\n",
    "        kategori = str(input(\"Kategori buku : \"))\n",
    "        stok = str(input(\"Stok buku : \"))\n",
    "\n",
    "        \n",
    "        query_insert_data = \"\"\"\n",
    "            INSERT INTO user_baru (id_buku, judul, kategori, stok ) VALUES(%s, %s, %s, %s) \n",
    "        \"\"\"\n",
    "        value = (id_buku, judul, kategori, stok)\n",
    "        execute_query (connection,query_insert_data,value)\n",
    "        print (\"==================================\")\n",
    "        \n",
    "    #untuk menu peminjaman\n",
    "    elif (nomor_tugas == 3) :\n",
    "        print (\"==================================\")\n",
    "        id_user = str(input(\"Masukkan id peminjam : \"))\n",
    "        id_buku = str(input(\"Masukkan kode buku : \"))\n",
    "        nama = str(input(\"Masukkan nama peminjam : \"))\n",
    "        judul = str(input(\"Masukkan judul buku : \"))   \n",
    "        print (\"==================================\")  \n",
    "        \n",
    "    #untuk menu daftar buku   \n",
    "    elif (nomor_tugas == 4) :\n",
    "        print (\"==================================\")\n",
    "        execute('SELECT * FROM buku_baru')\n",
    "        cursor.fetchall()\n",
    "        read_query(connection, query)\n",
    "        print (\"==================================\")\n",
    "        \n",
    "    #untuk menu daftar user\n",
    "    elif (nomor_tugas == 5) :\n",
    "        print (\"==================================\")\n",
    "        execute('SELECT * FROM user_baru')\n",
    "        cursor.fetchall()\n",
    "        read_query(connection, query)\n",
    "        print (\"==================================\")\n",
    "    \n",
    "    #untuk menu daftar peminjaman\n",
    "    elif (nomor_tugas == 6) :\n",
    "        print (\"==================================\")\n",
    "        execute('SELECT * FROM peminjaman')\n",
    "        cursor.fetchall()\n",
    "        read_query(connection, query)\n",
    "        print (\"==================================\")\n",
    "        \n",
    "        \n",
    "    elif (nomor_tugas == 7) :\n",
    "        print (\"==================================\")\n",
    "        \n",
    "        print (\"==================================\")\n",
    "        \n",
    "    #untuk menu pengembalian\n",
    "    elif (nomor_tugas == 8) :\n",
    "        print (\"==================================\")\n",
    "        id_user = str(input(\"Masukkan id peminjam : \"))\n",
    "        id_buku = str(input(\"Masukkan kode buku : \"))\n",
    "        print (\"==================================\")\n",
    "        \n",
    "    elif (nomor_tugas == 9) :\n",
    "        print (\"Selamat tinggal\")\n",
    "        cursor.close()\n",
    "        break\n",
    "    else : \n",
    "        print (\"Nomor tugas yang anda masukkan salah\")\n",
    "        break\n",
    "    id_user += 1   \n",
    "    id_buku += 1\n",
    "    nomor_tugas = int(input ('\\nMasukkan Nomor Tugas : '))"
   ]
  },
  {
   "cell_type": "code",
   "execution_count": null,
   "id": "714ac570",
   "metadata": {},
   "outputs": [],
   "source": []
  }
 ],
 "metadata": {
  "kernelspec": {
   "display_name": "Python 3 (ipykernel)",
   "language": "python",
   "name": "python3"
  },
  "language_info": {
   "codemirror_mode": {
    "name": "ipython",
    "version": 3
   },
   "file_extension": ".py",
   "mimetype": "text/x-python",
   "name": "python",
   "nbconvert_exporter": "python",
   "pygments_lexer": "ipython3",
   "version": "3.9.12"
  }
 },
 "nbformat": 4,
 "nbformat_minor": 5
}
